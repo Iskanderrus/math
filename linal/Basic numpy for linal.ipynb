{
 "cells": [
  {
   "cell_type": "code",
   "execution_count": 1,
   "id": "95192e6d",
   "metadata": {},
   "outputs": [],
   "source": [
    "import numpy as np"
   ]
  },
  {
   "cell_type": "markdown",
   "id": "cb0bc6eb",
   "metadata": {},
   "source": [
    "# Creating an array (vector)"
   ]
  },
  {
   "cell_type": "markdown",
   "id": "7e7173eb",
   "metadata": {},
   "source": [
    "## directly"
   ]
  },
  {
   "cell_type": "code",
   "execution_count": 2,
   "id": "1f7c8cfa",
   "metadata": {},
   "outputs": [],
   "source": [
    "my_vec = np.array([1,2,3,4,5])"
   ]
  },
  {
   "cell_type": "code",
   "execution_count": 3,
   "id": "1f0f8e36",
   "metadata": {},
   "outputs": [
    {
     "data": {
      "text/plain": [
       "array([1, 2, 3, 4, 5])"
      ]
     },
     "execution_count": 3,
     "metadata": {},
     "output_type": "execute_result"
    }
   ],
   "source": [
    "my_vec"
   ]
  },
  {
   "cell_type": "markdown",
   "id": "3eb0c400",
   "metadata": {},
   "source": [
    "## from a list"
   ]
  },
  {
   "cell_type": "code",
   "execution_count": 4,
   "id": "ba0a9b5c",
   "metadata": {},
   "outputs": [],
   "source": [
    "my_list = [x for x in range(10)]"
   ]
  },
  {
   "cell_type": "code",
   "execution_count": 5,
   "id": "b2cb3ffc",
   "metadata": {},
   "outputs": [],
   "source": [
    "my_vec = np.array(my_list)"
   ]
  },
  {
   "cell_type": "code",
   "execution_count": 6,
   "id": "ab1a4e1a",
   "metadata": {},
   "outputs": [
    {
     "data": {
      "text/plain": [
       "array([0, 1, 2, 3, 4, 5, 6, 7, 8, 9])"
      ]
     },
     "execution_count": 6,
     "metadata": {},
     "output_type": "execute_result"
    }
   ],
   "source": [
    "my_vec"
   ]
  },
  {
   "cell_type": "markdown",
   "id": "59a481c1",
   "metadata": {},
   "source": [
    "## built-in methods"
   ]
  },
  {
   "cell_type": "code",
   "execution_count": 7,
   "id": "ad6284c1",
   "metadata": {},
   "outputs": [],
   "source": [
    "my_vec = np.arange(1, 10)"
   ]
  },
  {
   "cell_type": "code",
   "execution_count": 8,
   "id": "43a0687e",
   "metadata": {},
   "outputs": [
    {
     "data": {
      "text/plain": [
       "array([1, 2, 3, 4, 5, 6, 7, 8, 9])"
      ]
     },
     "execution_count": 8,
     "metadata": {},
     "output_type": "execute_result"
    }
   ],
   "source": [
    "my_vec"
   ]
  },
  {
   "cell_type": "code",
   "execution_count": 9,
   "id": "ffa06146",
   "metadata": {},
   "outputs": [],
   "source": [
    "my_vec = np.arange(1,10, 2)"
   ]
  },
  {
   "cell_type": "code",
   "execution_count": 10,
   "id": "c8a70900",
   "metadata": {},
   "outputs": [
    {
     "data": {
      "text/plain": [
       "array([1, 3, 5, 7, 9])"
      ]
     },
     "execution_count": 10,
     "metadata": {},
     "output_type": "execute_result"
    }
   ],
   "source": [
    "my_vec"
   ]
  },
  {
   "cell_type": "code",
   "execution_count": 11,
   "id": "a6510593",
   "metadata": {},
   "outputs": [
    {
     "data": {
      "text/plain": [
       "array([0., 0., 0., 0., 0., 0., 0., 0., 0., 0.])"
      ]
     },
     "execution_count": 11,
     "metadata": {},
     "output_type": "execute_result"
    }
   ],
   "source": [
    "np.zeros(10) # array"
   ]
  },
  {
   "cell_type": "code",
   "execution_count": 12,
   "id": "8e453d97",
   "metadata": {},
   "outputs": [
    {
     "data": {
      "text/plain": [
       "array([[0., 0., 0., 0., 0., 0., 0., 0., 0., 0.],\n",
       "       [0., 0., 0., 0., 0., 0., 0., 0., 0., 0.],\n",
       "       [0., 0., 0., 0., 0., 0., 0., 0., 0., 0.],\n",
       "       [0., 0., 0., 0., 0., 0., 0., 0., 0., 0.],\n",
       "       [0., 0., 0., 0., 0., 0., 0., 0., 0., 0.],\n",
       "       [0., 0., 0., 0., 0., 0., 0., 0., 0., 0.],\n",
       "       [0., 0., 0., 0., 0., 0., 0., 0., 0., 0.],\n",
       "       [0., 0., 0., 0., 0., 0., 0., 0., 0., 0.],\n",
       "       [0., 0., 0., 0., 0., 0., 0., 0., 0., 0.],\n",
       "       [0., 0., 0., 0., 0., 0., 0., 0., 0., 0.]])"
      ]
     },
     "execution_count": 12,
     "metadata": {},
     "output_type": "execute_result"
    }
   ],
   "source": [
    "np.zeros((10, 10)) # matrix"
   ]
  },
  {
   "cell_type": "code",
   "execution_count": 13,
   "id": "ebd62aee",
   "metadata": {},
   "outputs": [
    {
     "data": {
      "text/plain": [
       "array([1., 1., 1., 1., 1., 1., 1., 1., 1., 1.])"
      ]
     },
     "execution_count": 13,
     "metadata": {},
     "output_type": "execute_result"
    }
   ],
   "source": [
    "np.ones(10)"
   ]
  },
  {
   "cell_type": "code",
   "execution_count": 14,
   "id": "fe758d9f",
   "metadata": {},
   "outputs": [
    {
     "data": {
      "text/plain": [
       "array([[1., 1., 1., 1., 1., 1., 1., 1., 1., 1.],\n",
       "       [1., 1., 1., 1., 1., 1., 1., 1., 1., 1.],\n",
       "       [1., 1., 1., 1., 1., 1., 1., 1., 1., 1.],\n",
       "       [1., 1., 1., 1., 1., 1., 1., 1., 1., 1.],\n",
       "       [1., 1., 1., 1., 1., 1., 1., 1., 1., 1.],\n",
       "       [1., 1., 1., 1., 1., 1., 1., 1., 1., 1.],\n",
       "       [1., 1., 1., 1., 1., 1., 1., 1., 1., 1.],\n",
       "       [1., 1., 1., 1., 1., 1., 1., 1., 1., 1.],\n",
       "       [1., 1., 1., 1., 1., 1., 1., 1., 1., 1.],\n",
       "       [1., 1., 1., 1., 1., 1., 1., 1., 1., 1.]])"
      ]
     },
     "execution_count": 14,
     "metadata": {},
     "output_type": "execute_result"
    }
   ],
   "source": [
    "np.ones((10, 10))"
   ]
  },
  {
   "cell_type": "markdown",
   "id": "acf82405",
   "metadata": {},
   "source": [
    "## linspace"
   ]
  },
  {
   "cell_type": "code",
   "execution_count": 15,
   "id": "ac80a0a0",
   "metadata": {},
   "outputs": [
    {
     "data": {
      "text/plain": [
       "array([ 0.        ,  0.71428571,  1.42857143,  2.14285714,  2.85714286,\n",
       "        3.57142857,  4.28571429,  5.        ,  5.71428571,  6.42857143,\n",
       "        7.14285714,  7.85714286,  8.57142857,  9.28571429, 10.        ])"
      ]
     },
     "execution_count": 15,
     "metadata": {},
     "output_type": "execute_result"
    }
   ],
   "source": [
    "np.linspace(0, 10, 15) # space in range 0 to 10 inclusevely evenly split into 15 chunks"
   ]
  },
  {
   "cell_type": "markdown",
   "id": "b266c76a",
   "metadata": {},
   "source": [
    "## eye for identical matrix"
   ]
  },
  {
   "cell_type": "code",
   "execution_count": 16,
   "id": "23835c97",
   "metadata": {},
   "outputs": [
    {
     "data": {
      "text/plain": [
       "array([[1., 0., 0., 0., 0., 0., 0., 0., 0., 0.],\n",
       "       [0., 1., 0., 0., 0., 0., 0., 0., 0., 0.],\n",
       "       [0., 0., 1., 0., 0., 0., 0., 0., 0., 0.],\n",
       "       [0., 0., 0., 1., 0., 0., 0., 0., 0., 0.],\n",
       "       [0., 0., 0., 0., 1., 0., 0., 0., 0., 0.],\n",
       "       [0., 0., 0., 0., 0., 1., 0., 0., 0., 0.],\n",
       "       [0., 0., 0., 0., 0., 0., 1., 0., 0., 0.],\n",
       "       [0., 0., 0., 0., 0., 0., 0., 1., 0., 0.],\n",
       "       [0., 0., 0., 0., 0., 0., 0., 0., 1., 0.],\n",
       "       [0., 0., 0., 0., 0., 0., 0., 0., 0., 1.]])"
      ]
     },
     "execution_count": 16,
     "metadata": {},
     "output_type": "execute_result"
    }
   ],
   "source": [
    "np.eye(10)"
   ]
  },
  {
   "cell_type": "markdown",
   "id": "e2d3177a",
   "metadata": {},
   "source": [
    "## Random module"
   ]
  },
  {
   "cell_type": "markdown",
   "id": "fdf6f3b0",
   "metadata": {},
   "source": [
    "### rand - _random number in range 0 to 1_"
   ]
  },
  {
   "cell_type": "code",
   "execution_count": 17,
   "id": "5ea82f47",
   "metadata": {},
   "outputs": [
    {
     "data": {
      "text/plain": [
       "array([0.92376875, 0.7575951 , 0.61881526, 0.81443583, 0.60133207,\n",
       "       0.04065075, 0.47125259, 0.07673596, 0.7350693 , 0.17123354])"
      ]
     },
     "execution_count": 17,
     "metadata": {},
     "output_type": "execute_result"
    }
   ],
   "source": [
    "np.random.rand(10)"
   ]
  },
  {
   "cell_type": "code",
   "execution_count": 18,
   "id": "734be4d3",
   "metadata": {},
   "outputs": [
    {
     "data": {
      "text/plain": [
       "array([[0.44734462, 0.30183276, 0.7949809 , 0.14988247, 0.2082355 ],\n",
       "       [0.42129501, 0.85661233, 0.55343234, 0.97752123, 0.52881924]])"
      ]
     },
     "execution_count": 18,
     "metadata": {},
     "output_type": "execute_result"
    }
   ],
   "source": [
    "np.random.rand(2, 5)"
   ]
  },
  {
   "cell_type": "markdown",
   "id": "7f107cfb",
   "metadata": {},
   "source": [
    "### randn - _sample (or samples) from the \"standard normal\" distribution [σ = 1]_"
   ]
  },
  {
   "cell_type": "code",
   "execution_count": 19,
   "id": "2b979ab6",
   "metadata": {},
   "outputs": [
    {
     "data": {
      "text/plain": [
       "array([ 1.95388976,  0.27151157, -0.03109042,  0.09336029,  1.00040504,\n",
       "       -0.21007095, -1.49465244, -0.30844068,  0.9518033 , -1.40572226])"
      ]
     },
     "execution_count": 19,
     "metadata": {},
     "output_type": "execute_result"
    }
   ],
   "source": [
    "np.random.randn(10)"
   ]
  },
  {
   "cell_type": "code",
   "execution_count": 20,
   "id": "40be2d8c",
   "metadata": {},
   "outputs": [
    {
     "data": {
      "text/plain": [
       "array([[ 2.43150374,  0.66081539,  0.69638705, -1.31427148,  0.36612266],\n",
       "       [-1.41635937,  1.05440186,  0.44853365,  1.33101315, -0.06963006]])"
      ]
     },
     "execution_count": 20,
     "metadata": {},
     "output_type": "execute_result"
    }
   ],
   "source": [
    "np.random.randn(2, 5)"
   ]
  },
  {
   "cell_type": "markdown",
   "id": "99a0cf0d",
   "metadata": {},
   "source": [
    "### randint - _returns array of integers in given range_"
   ]
  },
  {
   "cell_type": "code",
   "execution_count": 21,
   "id": "8277902a",
   "metadata": {},
   "outputs": [
    {
     "data": {
      "text/plain": [
       "12"
      ]
     },
     "execution_count": 21,
     "metadata": {},
     "output_type": "execute_result"
    }
   ],
   "source": [
    "np.random.randint(2, 15) # returns an integer"
   ]
  },
  {
   "cell_type": "code",
   "execution_count": 22,
   "id": "5762c973",
   "metadata": {},
   "outputs": [
    {
     "data": {
      "text/plain": [
       "array([ 6, 10,  9])"
      ]
     },
     "execution_count": 22,
     "metadata": {},
     "output_type": "execute_result"
    }
   ],
   "source": [
    "np.random.randint(2, 15, 3)"
   ]
  },
  {
   "cell_type": "markdown",
   "id": "e7f6617b",
   "metadata": {},
   "source": [
    "### seed - _used to set the random state_"
   ]
  },
  {
   "cell_type": "code",
   "execution_count": 23,
   "id": "6e866d5c",
   "metadata": {
    "scrolled": true
   },
   "outputs": [
    {
     "name": "stdout",
     "output_type": "stream",
     "text": [
      "[0.77132064 0.02075195 0.63364823 0.74880388 0.49850701]\n",
      "\n",
      "[0.22199317 0.87073231 0.20671916 0.91861091 0.48841119]\n",
      "\n",
      "[0.77132064 0.02075195 0.63364823 0.74880388 0.49850701]\n",
      "\n",
      "[0.22199317 0.87073231 0.20671916 0.91861091 0.48841119]\n"
     ]
    }
   ],
   "source": [
    "np.random.seed(10)\n",
    "print(np.random.rand(5))\n",
    "print()\n",
    "np.random.seed(5)\n",
    "print(np.random.rand(5))\n",
    "print()\n",
    "np.random.seed(10)\n",
    "print(np.random.rand(5))\n",
    "print()\n",
    "np.random.seed(5)\n",
    "print(np.random.rand(5))"
   ]
  },
  {
   "cell_type": "markdown",
   "id": "edc478c2",
   "metadata": {},
   "source": [
    "# Creating a matrix"
   ]
  },
  {
   "cell_type": "markdown",
   "id": "a3b65c35",
   "metadata": {},
   "source": [
    "## randn"
   ]
  },
  {
   "cell_type": "code",
   "execution_count": 24,
   "id": "c7413a35",
   "metadata": {},
   "outputs": [],
   "source": [
    "my_mat = np.random.randn(2, 3) # 2 rows, 3 columns for 2dimensional vector "
   ]
  },
  {
   "cell_type": "code",
   "execution_count": 25,
   "id": "1e7ce82a",
   "metadata": {},
   "outputs": [
    {
     "data": {
      "text/plain": [
       "array([[ 1.36758552,  0.57470769, -1.88576241],\n",
       "       [ 0.17092537, -0.40309331,  1.63762849]])"
      ]
     },
     "execution_count": 25,
     "metadata": {},
     "output_type": "execute_result"
    }
   ],
   "source": [
    "my_mat"
   ]
  },
  {
   "cell_type": "markdown",
   "id": "e9c72986",
   "metadata": {},
   "source": [
    "# Reshape matrix "
   ]
  },
  {
   "cell_type": "markdown",
   "id": "4a851f8b",
   "metadata": {},
   "source": [
    "Returns an array containing the same data with a new shape.  \n",
    "Reshape size must be square numbers like 2x2,3x3,4x4"
   ]
  },
  {
   "cell_type": "code",
   "execution_count": 26,
   "id": "3608b834",
   "metadata": {},
   "outputs": [
    {
     "data": {
      "text/plain": [
       "array([[ 0,  1,  2,  3,  4,  5],\n",
       "       [ 6,  7,  8,  9, 10, 11],\n",
       "       [12, 13, 14, 15, 16, 17],\n",
       "       [18, 19, 20, 21, 22, 23],\n",
       "       [24, 25, 26, 27, 28, 29],\n",
       "       [30, 31, 32, 33, 34, 35]])"
      ]
     },
     "execution_count": 26,
     "metadata": {},
     "output_type": "execute_result"
    }
   ],
   "source": [
    "array = np.arange(36) # creating an array\n",
    "array.reshape(6,6) # reshaping it into a matrix"
   ]
  },
  {
   "cell_type": "code",
   "execution_count": 27,
   "id": "065de9f3",
   "metadata": {},
   "outputs": [
    {
     "ename": "ValueError",
     "evalue": "cannot reshape array of size 36 into shape (6,5)",
     "output_type": "error",
     "traceback": [
      "\u001b[0;31m---------------------------------------------------------------------------\u001b[0m",
      "\u001b[0;31mValueError\u001b[0m                                Traceback (most recent call last)",
      "Input \u001b[0;32mIn [27]\u001b[0m, in \u001b[0;36m<cell line: 1>\u001b[0;34m()\u001b[0m\n\u001b[0;32m----> 1\u001b[0m \u001b[43marray\u001b[49m\u001b[38;5;241;43m.\u001b[39;49m\u001b[43mreshape\u001b[49m\u001b[43m(\u001b[49m\u001b[38;5;241;43m6\u001b[39;49m\u001b[43m,\u001b[49m\u001b[38;5;241;43m5\u001b[39;49m\u001b[43m)\u001b[49m\n",
      "\u001b[0;31mValueError\u001b[0m: cannot reshape array of size 36 into shape (6,5)"
     ]
    }
   ],
   "source": [
    "array.reshape(6,5) # is impossible"
   ]
  },
  {
   "cell_type": "code",
   "execution_count": 28,
   "id": "5c8e665b",
   "metadata": {},
   "outputs": [
    {
     "data": {
      "text/plain": [
       "array([[ 0,  1,  2,  3,  4,  5,  6,  7,  8,  9, 10, 11],\n",
       "       [12, 13, 14, 15, 16, 17, 18, 19, 20, 21, 22, 23],\n",
       "       [24, 25, 26, 27, 28, 29, 30, 31, 32, 33, 34, 35]])"
      ]
     },
     "execution_count": 28,
     "metadata": {},
     "output_type": "execute_result"
    }
   ],
   "source": [
    "array.reshape(3, 12)"
   ]
  },
  {
   "cell_type": "code",
   "execution_count": 29,
   "id": "8f7be44f",
   "metadata": {},
   "outputs": [
    {
     "data": {
      "text/plain": [
       "array([[ 0,  1,  2,  3,  4,  5,  6,  7,  8],\n",
       "       [ 9, 10, 11, 12, 13, 14, 15, 16, 17],\n",
       "       [18, 19, 20, 21, 22, 23, 24, 25, 26],\n",
       "       [27, 28, 29, 30, 31, 32, 33, 34, 35]])"
      ]
     },
     "execution_count": 29,
     "metadata": {},
     "output_type": "execute_result"
    }
   ],
   "source": [
    "array.reshape(4, 9)"
   ]
  },
  {
   "cell_type": "markdown",
   "id": "fa9097cc",
   "metadata": {},
   "source": [
    "# Matrix transformation"
   ]
  },
  {
   "cell_type": "code",
   "execution_count": 30,
   "id": "c044210c",
   "metadata": {},
   "outputs": [
    {
     "data": {
      "text/plain": [
       "array([[ 1.36758552,  0.17092537],\n",
       "       [ 0.57470769, -0.40309331],\n",
       "       [-1.88576241,  1.63762849]])"
      ]
     },
     "execution_count": 30,
     "metadata": {},
     "output_type": "execute_result"
    }
   ],
   "source": [
    "my_mat.T"
   ]
  },
  {
   "cell_type": "markdown",
   "id": "7795f731",
   "metadata": {},
   "source": [
    "Now we have a 3dimensional vector with 2 columns"
   ]
  },
  {
   "cell_type": "code",
   "execution_count": 31,
   "id": "9570abc8",
   "metadata": {},
   "outputs": [],
   "source": [
    "my_mat2 = np.random.randn(3, 2)"
   ]
  },
  {
   "cell_type": "code",
   "execution_count": 32,
   "id": "7fbbefbb",
   "metadata": {},
   "outputs": [
    {
     "data": {
      "text/plain": [
       "array([[-0.60529785, -1.59441507],\n",
       "       [ 0.91187364, -1.44384155],\n",
       "       [ 1.82444017,  1.45762512]])"
      ]
     },
     "execution_count": 32,
     "metadata": {},
     "output_type": "execute_result"
    }
   ],
   "source": [
    "my_mat2"
   ]
  },
  {
   "cell_type": "markdown",
   "id": "9ec2e02b",
   "metadata": {},
   "source": [
    "# Arithmetic"
   ]
  },
  {
   "cell_type": "code",
   "execution_count": 33,
   "id": "d89c4db2",
   "metadata": {},
   "outputs": [],
   "source": [
    "arr = np.arange(0,11)"
   ]
  },
  {
   "cell_type": "markdown",
   "id": "1b359169",
   "metadata": {},
   "source": [
    "## With numbers"
   ]
  },
  {
   "cell_type": "code",
   "execution_count": 38,
   "id": "6448675c",
   "metadata": {},
   "outputs": [
    {
     "data": {
      "text/plain": [
       "array([ 5,  6,  7,  8,  9, 10, 11, 12, 13, 14, 15])"
      ]
     },
     "execution_count": 38,
     "metadata": {},
     "output_type": "execute_result"
    }
   ],
   "source": [
    "arr + 5"
   ]
  },
  {
   "cell_type": "code",
   "execution_count": 39,
   "id": "f32cb8d7",
   "metadata": {},
   "outputs": [
    {
     "data": {
      "text/plain": [
       "array([-20, -19, -18, -17, -16, -15, -14, -13, -12, -11, -10])"
      ]
     },
     "execution_count": 39,
     "metadata": {},
     "output_type": "execute_result"
    }
   ],
   "source": [
    "arr-20"
   ]
  },
  {
   "cell_type": "code",
   "execution_count": 40,
   "id": "c0e3f6bd",
   "metadata": {},
   "outputs": [
    {
     "data": {
      "text/plain": [
       "array([ 0,  5, 10, 15, 20, 25, 30, 35, 40, 45, 50])"
      ]
     },
     "execution_count": 40,
     "metadata": {},
     "output_type": "execute_result"
    }
   ],
   "source": [
    "arr * 5"
   ]
  },
  {
   "cell_type": "code",
   "execution_count": 41,
   "id": "d07d00a9",
   "metadata": {},
   "outputs": [
    {
     "data": {
      "text/plain": [
       "array([0. , 0.5, 1. , 1.5, 2. , 2.5, 3. , 3.5, 4. , 4.5, 5. ])"
      ]
     },
     "execution_count": 41,
     "metadata": {},
     "output_type": "execute_result"
    }
   ],
   "source": [
    "arr / 2"
   ]
  },
  {
   "cell_type": "markdown",
   "id": "07b8c62e",
   "metadata": {},
   "source": [
    "## Array and array"
   ]
  },
  {
   "cell_type": "code",
   "execution_count": 34,
   "id": "b8924e7f",
   "metadata": {},
   "outputs": [
    {
     "data": {
      "text/plain": [
       "array([ 0,  2,  4,  6,  8, 10, 12, 14, 16, 18, 20])"
      ]
     },
     "execution_count": 34,
     "metadata": {},
     "output_type": "execute_result"
    }
   ],
   "source": [
    "arr+arr"
   ]
  },
  {
   "cell_type": "code",
   "execution_count": 35,
   "id": "97db28d4",
   "metadata": {},
   "outputs": [
    {
     "data": {
      "text/plain": [
       "array([0, 0, 0, 0, 0, 0, 0, 0, 0, 0, 0])"
      ]
     },
     "execution_count": 35,
     "metadata": {},
     "output_type": "execute_result"
    }
   ],
   "source": [
    "arr-arr"
   ]
  },
  {
   "cell_type": "code",
   "execution_count": 36,
   "id": "0bf59aa7",
   "metadata": {},
   "outputs": [
    {
     "data": {
      "text/plain": [
       "array([  0,   1,   4,   9,  16,  25,  36,  49,  64,  81, 100])"
      ]
     },
     "execution_count": 36,
     "metadata": {},
     "output_type": "execute_result"
    }
   ],
   "source": [
    "arr*arr"
   ]
  },
  {
   "cell_type": "code",
   "execution_count": 37,
   "id": "d20d28bc",
   "metadata": {},
   "outputs": [
    {
     "name": "stderr",
     "output_type": "stream",
     "text": [
      "/tmp/ipykernel_28939/1862401812.py:1: RuntimeWarning: invalid value encountered in true_divide\n",
      "  arr/arr\n"
     ]
    },
    {
     "data": {
      "text/plain": [
       "array([nan,  1.,  1.,  1.,  1.,  1.,  1.,  1.,  1.,  1.,  1.])"
      ]
     },
     "execution_count": 37,
     "metadata": {},
     "output_type": "execute_result"
    }
   ],
   "source": [
    "arr/arr"
   ]
  },
  {
   "cell_type": "markdown",
   "id": "eac1f3d6",
   "metadata": {},
   "source": [
    "# Matrix"
   ]
  },
  {
   "cell_type": "code",
   "execution_count": 43,
   "id": "e3c6149b",
   "metadata": {},
   "outputs": [
    {
     "data": {
      "text/plain": [
       "array([[ 0.76228768, -1.42348971],\n",
       "       [ 1.48658133, -1.84693487],\n",
       "       [-0.06132224,  3.09525361]])"
      ]
     },
     "execution_count": 43,
     "metadata": {},
     "output_type": "execute_result"
    }
   ],
   "source": [
    "my_mat.T + my_mat2 # addition is only possible for matrixes having same dimensions"
   ]
  },
  {
   "cell_type": "code",
   "execution_count": 44,
   "id": "8dd05f98",
   "metadata": {},
   "outputs": [
    {
     "data": {
      "text/plain": [
       "array([[ 1.97288337,  1.76534044],\n",
       "       [-0.33716595,  1.04074824],\n",
       "       [-3.71020257,  0.18000337]])"
      ]
     },
     "execution_count": 44,
     "metadata": {},
     "output_type": "execute_result"
    }
   ],
   "source": [
    "my_mat.T - my_mat2"
   ]
  },
  {
   "cell_type": "code",
   "execution_count": 45,
   "id": "d0c97525",
   "metadata": {},
   "outputs": [
    {
     "data": {
      "text/plain": [
       "array([[-3.74419646, -5.75902048],\n",
       "       [ 2.51672427,  2.69652532]])"
      ]
     },
     "execution_count": 45,
     "metadata": {},
     "output_type": "execute_result"
    }
   ],
   "source": [
    "my_mat @ my_mat2"
   ]
  },
  {
   "cell_type": "markdown",
   "id": "98e07bdc",
   "metadata": {},
   "source": [
    "# Array Functions\n"
   ]
  },
  {
   "cell_type": "code",
   "execution_count": 46,
   "id": "ca71ca09",
   "metadata": {},
   "outputs": [
    {
     "data": {
      "text/plain": [
       "array([0.        , 1.        , 1.41421356, 1.73205081, 2.        ,\n",
       "       2.23606798, 2.44948974, 2.64575131, 2.82842712, 3.        ,\n",
       "       3.16227766])"
      ]
     },
     "execution_count": 46,
     "metadata": {},
     "output_type": "execute_result"
    }
   ],
   "source": [
    "np.sqrt(arr)"
   ]
  },
  {
   "cell_type": "code",
   "execution_count": 47,
   "id": "5678d8fc",
   "metadata": {},
   "outputs": [
    {
     "data": {
      "text/plain": [
       "array([1.00000000e+00, 2.71828183e+00, 7.38905610e+00, 2.00855369e+01,\n",
       "       5.45981500e+01, 1.48413159e+02, 4.03428793e+02, 1.09663316e+03,\n",
       "       2.98095799e+03, 8.10308393e+03, 2.20264658e+04])"
      ]
     },
     "execution_count": 47,
     "metadata": {},
     "output_type": "execute_result"
    }
   ],
   "source": [
    "np.exp(arr)"
   ]
  },
  {
   "cell_type": "code",
   "execution_count": 48,
   "id": "78b76967",
   "metadata": {},
   "outputs": [
    {
     "name": "stderr",
     "output_type": "stream",
     "text": [
      "/tmp/ipykernel_28939/3120950136.py:1: RuntimeWarning: divide by zero encountered in log\n",
      "  np.log(arr)\n"
     ]
    },
    {
     "data": {
      "text/plain": [
       "array([      -inf, 0.        , 0.69314718, 1.09861229, 1.38629436,\n",
       "       1.60943791, 1.79175947, 1.94591015, 2.07944154, 2.19722458,\n",
       "       2.30258509])"
      ]
     },
     "execution_count": 48,
     "metadata": {},
     "output_type": "execute_result"
    }
   ],
   "source": [
    "np.log(arr)"
   ]
  },
  {
   "cell_type": "markdown",
   "id": "d4a6a42f",
   "metadata": {},
   "source": [
    "# Statistics"
   ]
  },
  {
   "cell_type": "code",
   "execution_count": 52,
   "id": "dfe8a211",
   "metadata": {},
   "outputs": [
    {
     "name": "stdout",
     "output_type": "stream",
     "text": [
      "Sum: \t\t\t55\n",
      "Mean: \t\t\t5.0\n",
      "Max: \t\t\t10\n",
      "Min: \t\t\t0\n",
      "Variance: \t\t10.0\n",
      "Standard deviation\t3.1622776601683795\n"
     ]
    }
   ],
   "source": [
    "arr = np.arange(0,11)\n",
    "print(f'Sum: \\t\\t\\t{arr.sum()}')\n",
    "print(f'Mean: \\t\\t\\t{arr.mean()}')\n",
    "print(f'Max: \\t\\t\\t{arr.max()}')\n",
    "print(f'Min: \\t\\t\\t{arr.min()}')\n",
    "print(f'Variance: \\t\\t{arr.var()}')\n",
    "print(f'Standard deviation\\t{arr.std()}')"
   ]
  },
  {
   "cell_type": "markdown",
   "id": "cbee7d6d",
   "metadata": {},
   "source": [
    "# Array concatenation"
   ]
  },
  {
   "cell_type": "code",
   "execution_count": 54,
   "id": "f955682b",
   "metadata": {},
   "outputs": [
    {
     "data": {
      "text/plain": [
       "array([ 1,  2,  3,  4,  5,  6,  7,  8,  9, 10, 11, 12, 13, 14, 15])"
      ]
     },
     "execution_count": 54,
     "metadata": {},
     "output_type": "execute_result"
    }
   ],
   "source": [
    "arr1 = np.array([1, 2, 3, 4, 5])\n",
    "arr2 = np.array([6, 7, 8, 9, 10])\n",
    "arr3 = np.array([11, 12, 13, 14, 15])\n",
    "con_arr = np.concatenate([arr1, arr2, arr3])\n",
    "con_arr  # just cncatenated array"
   ]
  },
  {
   "cell_type": "code",
   "execution_count": 57,
   "id": "ba9af531",
   "metadata": {},
   "outputs": [
    {
     "data": {
      "text/plain": [
       "array([[ 1,  2,  3],\n",
       "       [ 4,  5,  6],\n",
       "       [ 7,  8,  9],\n",
       "       [10, 11, 12],\n",
       "       [13, 14, 15]])"
      ]
     },
     "execution_count": 57,
     "metadata": {},
     "output_type": "execute_result"
    }
   ],
   "source": [
    "con_arr.reshape(\n",
    "    5, 3\n",
    ")  # each of 3 arrays had 5 items - we get a 2dimensional matrix with 5 rows and 3 columns"
   ]
  },
  {
   "cell_type": "markdown",
   "id": "b05149ca",
   "metadata": {},
   "source": [
    "# Staking arrays"
   ]
  },
  {
   "cell_type": "code",
   "execution_count": 58,
   "id": "df597788",
   "metadata": {},
   "outputs": [
    {
     "data": {
      "text/plain": [
       "array([[1, 3, 2, 4],\n",
       "       [7, 9, 6, 8]])"
      ]
     },
     "execution_count": 58,
     "metadata": {},
     "output_type": "execute_result"
    }
   ],
   "source": [
    "odd_array = np.array([[1, 3], [7, 9]])\n",
    "even_array = np.array([[2, 4], [6, 8]])\n",
    "\n",
    "# horizontal staking\n",
    "np.hstack([odd_array, even_array])"
   ]
  },
  {
   "cell_type": "code",
   "execution_count": 59,
   "id": "f26a1daa",
   "metadata": {},
   "outputs": [
    {
     "data": {
      "text/plain": [
       "array([[1, 3],\n",
       "       [7, 9],\n",
       "       [2, 4],\n",
       "       [6, 8]])"
      ]
     },
     "execution_count": 59,
     "metadata": {},
     "output_type": "execute_result"
    }
   ],
   "source": [
    "# vertical staking\n",
    "np.vstack([odd_array, even_array])"
   ]
  },
  {
   "cell_type": "code",
   "execution_count": 60,
   "id": "afec21b8",
   "metadata": {},
   "outputs": [
    {
     "data": {
      "text/plain": [
       "array([[[1, 2],\n",
       "        [3, 4]],\n",
       "\n",
       "       [[7, 6],\n",
       "        [9, 8]]])"
      ]
     },
     "execution_count": 60,
     "metadata": {},
     "output_type": "execute_result"
    }
   ],
   "source": [
    "# depth-wise stacking\n",
    "np.dstack([odd_array, even_array])"
   ]
  },
  {
   "cell_type": "markdown",
   "id": "8f53e01c",
   "metadata": {},
   "source": [
    "# Splitting arrays"
   ]
  },
  {
   "cell_type": "code",
   "execution_count": 61,
   "id": "97070411",
   "metadata": {},
   "outputs": [],
   "source": [
    "array = np.array([\n",
    "    0, 1, 2, 3, 4, 5, 6, 7, 8, 9, 10, 11, 12, 13, 14, 15, 16, 17, 18, 19, 20,\n",
    "    21, 22, 23, 24, 25, 26, 27, 28, 29, 30, 31, 32, 33, 34, 35\n",
    "])"
   ]
  },
  {
   "cell_type": "code",
   "execution_count": 63,
   "id": "fea74329",
   "metadata": {},
   "outputs": [],
   "source": [
    "arr1, arr2, arr3, arr4 = np.split(array, 4) # can be only splitted in equal chunks, i.e array % n == 0"
   ]
  },
  {
   "cell_type": "code",
   "execution_count": 64,
   "id": "06cffc90",
   "metadata": {},
   "outputs": [
    {
     "name": "stdout",
     "output_type": "stream",
     "text": [
      "[0 1 2 3 4 5 6 7 8]\n",
      "[ 9 10 11 12 13 14 15 16 17]\n",
      "[18 19 20 21 22 23 24 25 26]\n",
      "[27 28 29 30 31 32 33 34 35]\n"
     ]
    }
   ],
   "source": [
    "print(arr1)\n",
    "print(arr2)\n",
    "print(arr3)\n",
    "print(arr4)"
   ]
  },
  {
   "cell_type": "code",
   "execution_count": null,
   "id": "6ceb501a",
   "metadata": {},
   "outputs": [],
   "source": []
  }
 ],
 "metadata": {
  "kernelspec": {
   "display_name": "Python 3 (ipykernel)",
   "language": "python",
   "name": "python3"
  },
  "language_info": {
   "codemirror_mode": {
    "name": "ipython",
    "version": 3
   },
   "file_extension": ".py",
   "mimetype": "text/x-python",
   "name": "python",
   "nbconvert_exporter": "python",
   "pygments_lexer": "ipython3",
   "version": "3.8.13"
  },
  "toc": {
   "base_numbering": 1,
   "nav_menu": {},
   "number_sections": true,
   "sideBar": true,
   "skip_h1_title": false,
   "title_cell": "Table of Contents",
   "title_sidebar": "Contents",
   "toc_cell": false,
   "toc_position": {},
   "toc_section_display": true,
   "toc_window_display": true
  },
  "varInspector": {
   "cols": {
    "lenName": 16,
    "lenType": 16,
    "lenVar": 40
   },
   "kernels_config": {
    "python": {
     "delete_cmd_postfix": "",
     "delete_cmd_prefix": "del ",
     "library": "var_list.py",
     "varRefreshCmd": "print(var_dic_list())"
    },
    "r": {
     "delete_cmd_postfix": ") ",
     "delete_cmd_prefix": "rm(",
     "library": "var_list.r",
     "varRefreshCmd": "cat(var_dic_list()) "
    }
   },
   "types_to_exclude": [
    "module",
    "function",
    "builtin_function_or_method",
    "instance",
    "_Feature"
   ],
   "window_display": false
  }
 },
 "nbformat": 4,
 "nbformat_minor": 5
}
